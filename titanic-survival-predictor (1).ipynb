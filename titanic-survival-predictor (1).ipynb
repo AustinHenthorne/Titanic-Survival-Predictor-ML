{
 "cells": [
  {
   "cell_type": "code",
   "execution_count": 1,
   "id": "august-beginning",
   "metadata": {
    "_cell_guid": "8d80fc7f-c707-4df6-aa11-c28bd736c5bd",
    "_uuid": "377849c2-de93-437d-a9f3-25b2da92d801",
    "collapsed": false,
    "execution": {
     "iopub.execute_input": "2021-04-27T23:51:07.729969Z",
     "iopub.status.busy": "2021-04-27T23:51:07.729045Z",
     "iopub.status.idle": "2021-04-27T23:51:09.232948Z",
     "shell.execute_reply": "2021-04-27T23:51:09.231654Z"
    },
    "jupyter": {
     "outputs_hidden": false
    },
    "papermill": {
     "duration": 1.552433,
     "end_time": "2021-04-27T23:51:09.233212",
     "exception": false,
     "start_time": "2021-04-27T23:51:07.680779",
     "status": "completed"
    },
    "tags": []
   },
   "outputs": [
    {
     "name": "stdout",
     "output_type": "stream",
     "text": [
      "/kaggle/input/titanic/train.csv\n",
      "/kaggle/input/titanic/test.csv\n",
      "/kaggle/input/titanic/gender_submission.csv\n"
     ]
    }
   ],
   "source": [
    "# This Python 3 environment comes with many helpful analytics libraries installed\n",
    "# It is defined by the kaggle/python Docker image: https://github.com/kaggle/docker-python\n",
    "# For example, here's several helpful packages to load\n",
    "\n",
    "import numpy as np # linear algebra\n",
    "import pandas as pd # data processing, CSV file I/O (e.g. pd.read_csv)\n",
    "import matplotlib.pyplot as plt\n",
    "import seaborn as sns # Seaborn visualization library\n",
    "from sklearn.model_selection import train_test_split\n",
    "from sklearn.compose import ColumnTransformer\n",
    "from sklearn.pipeline import Pipeline\n",
    "from sklearn.preprocessing import StandardScaler, LabelEncoder, OneHotEncoder\n",
    "from sklearn.metrics import accuracy_score\n",
    "from sklearn.metrics import confusion_matrix, accuracy_score, precision_score, recall_score\n",
    "from sklearn.svm import SVC, LinearSVC, NuSVC\n",
    "from sklearn.tree import DecisionTreeClassifier\n",
    "from sklearn.neighbors import KNeighborsClassifier\n",
    "from sklearn.ensemble import RandomForestClassifier, AdaBoostClassifier, GradientBoostingClassifier\n",
    "from sklearn.linear_model import LogisticRegression\n",
    "from sklearn.preprocessing import RobustScaler\n",
    "from sklearn.impute import SimpleImputer\n",
    "\n",
    "# Input data files are available in the read-only \"../input/\" directory\n",
    "# For example, running this (by clicking run or pressing Shift+Enter) will list all files under the input directory\n",
    "\n",
    "import os\n",
    "for dirname, _, filenames in os.walk('/kaggle/input'):\n",
    "    for filename in filenames:\n",
    "        print(os.path.join(dirname, filename))\n",
    "\n",
    "# You can write up to 20GB to the current directory (/kaggle/working/) that gets preserved as output when you create a version using \"Save & Run All\" \n",
    "# You can also write temporary files to /kaggle/temp/, but they won't be saved outside of the current session"
   ]
  },
  {
   "cell_type": "markdown",
   "id": "positive-services",
   "metadata": {
    "papermill": {
     "duration": 0.03386,
     "end_time": "2021-04-27T23:51:09.302576",
     "exception": false,
     "start_time": "2021-04-27T23:51:09.268716",
     "status": "completed"
    },
    "tags": []
   },
   "source": [
    "**Flags that help control the current of the code (may not be used, just my style homie)**"
   ]
  },
  {
   "cell_type": "code",
   "execution_count": 2,
   "id": "typical-attachment",
   "metadata": {
    "execution": {
     "iopub.execute_input": "2021-04-27T23:51:09.376500Z",
     "iopub.status.busy": "2021-04-27T23:51:09.375814Z",
     "iopub.status.idle": "2021-04-27T23:51:09.379756Z",
     "shell.execute_reply": "2021-04-27T23:51:09.379094Z"
    },
    "papermill": {
     "duration": 0.042594,
     "end_time": "2021-04-27T23:51:09.379897",
     "exception": false,
     "start_time": "2021-04-27T23:51:09.337303",
     "status": "completed"
    },
    "tags": []
   },
   "outputs": [],
   "source": [
    "# Flags\n",
    "age_bins = True   # Convert Age integer column by grouping passengers into categories"
   ]
  },
  {
   "cell_type": "markdown",
   "id": "buried-exercise",
   "metadata": {
    "papermill": {
     "duration": 0.036331,
     "end_time": "2021-04-27T23:51:09.450529",
     "exception": false,
     "start_time": "2021-04-27T23:51:09.414198",
     "status": "completed"
    },
    "tags": []
   },
   "source": [
    "**Lets import some sad data and see if the movie is true**"
   ]
  },
  {
   "cell_type": "code",
   "execution_count": 3,
   "id": "cubic-heaven",
   "metadata": {
    "_cell_guid": "ed26cdd5-619e-4c81-b429-c12ab3748017",
    "_uuid": "1d55fcb8-2cc6-402b-8073-e59c5fc49af2",
    "collapsed": false,
    "execution": {
     "iopub.execute_input": "2021-04-27T23:51:09.524241Z",
     "iopub.status.busy": "2021-04-27T23:51:09.523480Z",
     "iopub.status.idle": "2021-04-27T23:51:09.541877Z",
     "shell.execute_reply": "2021-04-27T23:51:09.541300Z"
    },
    "jupyter": {
     "outputs_hidden": false
    },
    "papermill": {
     "duration": 0.057433,
     "end_time": "2021-04-27T23:51:09.542062",
     "exception": false,
     "start_time": "2021-04-27T23:51:09.484629",
     "status": "completed"
    },
    "tags": []
   },
   "outputs": [],
   "source": [
    "df = pd.read_csv(\"/kaggle/input/titanic/train.csv\")"
   ]
  },
  {
   "cell_type": "code",
   "execution_count": 4,
   "id": "clinical-married",
   "metadata": {
    "_cell_guid": "7ae9ceb8-c1db-4002-bb03-01d502d15b32",
    "_uuid": "773f9a9b-71ec-4075-850a-0a10e56a7458",
    "collapsed": false,
    "execution": {
     "iopub.execute_input": "2021-04-27T23:51:09.618683Z",
     "iopub.status.busy": "2021-04-27T23:51:09.618028Z",
     "iopub.status.idle": "2021-04-27T23:51:09.620972Z",
     "shell.execute_reply": "2021-04-27T23:51:09.621443Z"
    },
    "jupyter": {
     "outputs_hidden": false
    },
    "papermill": {
     "duration": 0.044843,
     "end_time": "2021-04-27T23:51:09.621606",
     "exception": false,
     "start_time": "2021-04-27T23:51:09.576763",
     "status": "completed"
    },
    "tags": []
   },
   "outputs": [
    {
     "data": {
      "text/plain": [
       "(891, 12)"
      ]
     },
     "execution_count": 4,
     "metadata": {},
     "output_type": "execute_result"
    }
   ],
   "source": [
    "df.shape"
   ]
  },
  {
   "cell_type": "markdown",
   "id": "confused-consolidation",
   "metadata": {
    "_cell_guid": "c5c55c4f-0395-4b54-ba66-e2550c340954",
    "_uuid": "6a66ae8b-ac36-489e-ad44-43fb4f2730b7",
    "papermill": {
     "duration": 0.034274,
     "end_time": "2021-04-27T23:51:09.691093",
     "exception": false,
     "start_time": "2021-04-27T23:51:09.656819",
     "status": "completed"
    },
    "tags": []
   },
   "source": [
    "**891 samples, 12 features**"
   ]
  },
  {
   "cell_type": "code",
   "execution_count": 5,
   "id": "operational-american",
   "metadata": {
    "_cell_guid": "d670a9a1-2ed3-4361-b008-be890df0ea65",
    "_uuid": "d9da406b-4a17-448b-92d4-486fa5e8e0ff",
    "collapsed": false,
    "execution": {
     "iopub.execute_input": "2021-04-27T23:51:09.764175Z",
     "iopub.status.busy": "2021-04-27T23:51:09.763454Z",
     "iopub.status.idle": "2021-04-27T23:51:09.796027Z",
     "shell.execute_reply": "2021-04-27T23:51:09.796564Z"
    },
    "jupyter": {
     "outputs_hidden": false
    },
    "papermill": {
     "duration": 0.071082,
     "end_time": "2021-04-27T23:51:09.796746",
     "exception": false,
     "start_time": "2021-04-27T23:51:09.725664",
     "status": "completed"
    },
    "tags": []
   },
   "outputs": [
    {
     "data": {
      "text/html": [
       "<div>\n",
       "<style scoped>\n",
       "    .dataframe tbody tr th:only-of-type {\n",
       "        vertical-align: middle;\n",
       "    }\n",
       "\n",
       "    .dataframe tbody tr th {\n",
       "        vertical-align: top;\n",
       "    }\n",
       "\n",
       "    .dataframe thead th {\n",
       "        text-align: right;\n",
       "    }\n",
       "</style>\n",
       "<table border=\"1\" class=\"dataframe\">\n",
       "  <thead>\n",
       "    <tr style=\"text-align: right;\">\n",
       "      <th></th>\n",
       "      <th>PassengerId</th>\n",
       "      <th>Survived</th>\n",
       "      <th>Pclass</th>\n",
       "      <th>Name</th>\n",
       "      <th>Sex</th>\n",
       "      <th>Age</th>\n",
       "      <th>SibSp</th>\n",
       "      <th>Parch</th>\n",
       "      <th>Ticket</th>\n",
       "      <th>Fare</th>\n",
       "      <th>Cabin</th>\n",
       "      <th>Embarked</th>\n",
       "    </tr>\n",
       "  </thead>\n",
       "  <tbody>\n",
       "    <tr>\n",
       "      <th>0</th>\n",
       "      <td>1</td>\n",
       "      <td>0</td>\n",
       "      <td>3</td>\n",
       "      <td>Braund, Mr. Owen Harris</td>\n",
       "      <td>male</td>\n",
       "      <td>22.0</td>\n",
       "      <td>1</td>\n",
       "      <td>0</td>\n",
       "      <td>A/5 21171</td>\n",
       "      <td>7.2500</td>\n",
       "      <td>NaN</td>\n",
       "      <td>S</td>\n",
       "    </tr>\n",
       "    <tr>\n",
       "      <th>1</th>\n",
       "      <td>2</td>\n",
       "      <td>1</td>\n",
       "      <td>1</td>\n",
       "      <td>Cumings, Mrs. John Bradley (Florence Briggs Th...</td>\n",
       "      <td>female</td>\n",
       "      <td>38.0</td>\n",
       "      <td>1</td>\n",
       "      <td>0</td>\n",
       "      <td>PC 17599</td>\n",
       "      <td>71.2833</td>\n",
       "      <td>C85</td>\n",
       "      <td>C</td>\n",
       "    </tr>\n",
       "    <tr>\n",
       "      <th>2</th>\n",
       "      <td>3</td>\n",
       "      <td>1</td>\n",
       "      <td>3</td>\n",
       "      <td>Heikkinen, Miss. Laina</td>\n",
       "      <td>female</td>\n",
       "      <td>26.0</td>\n",
       "      <td>0</td>\n",
       "      <td>0</td>\n",
       "      <td>STON/O2. 3101282</td>\n",
       "      <td>7.9250</td>\n",
       "      <td>NaN</td>\n",
       "      <td>S</td>\n",
       "    </tr>\n",
       "    <tr>\n",
       "      <th>3</th>\n",
       "      <td>4</td>\n",
       "      <td>1</td>\n",
       "      <td>1</td>\n",
       "      <td>Futrelle, Mrs. Jacques Heath (Lily May Peel)</td>\n",
       "      <td>female</td>\n",
       "      <td>35.0</td>\n",
       "      <td>1</td>\n",
       "      <td>0</td>\n",
       "      <td>113803</td>\n",
       "      <td>53.1000</td>\n",
       "      <td>C123</td>\n",
       "      <td>S</td>\n",
       "    </tr>\n",
       "    <tr>\n",
       "      <th>4</th>\n",
       "      <td>5</td>\n",
       "      <td>0</td>\n",
       "      <td>3</td>\n",
       "      <td>Allen, Mr. William Henry</td>\n",
       "      <td>male</td>\n",
       "      <td>35.0</td>\n",
       "      <td>0</td>\n",
       "      <td>0</td>\n",
       "      <td>373450</td>\n",
       "      <td>8.0500</td>\n",
       "      <td>NaN</td>\n",
       "      <td>S</td>\n",
       "    </tr>\n",
       "  </tbody>\n",
       "</table>\n",
       "</div>"
      ],
      "text/plain": [
       "   PassengerId  Survived  Pclass  \\\n",
       "0            1         0       3   \n",
       "1            2         1       1   \n",
       "2            3         1       3   \n",
       "3            4         1       1   \n",
       "4            5         0       3   \n",
       "\n",
       "                                                Name     Sex   Age  SibSp  \\\n",
       "0                            Braund, Mr. Owen Harris    male  22.0      1   \n",
       "1  Cumings, Mrs. John Bradley (Florence Briggs Th...  female  38.0      1   \n",
       "2                             Heikkinen, Miss. Laina  female  26.0      0   \n",
       "3       Futrelle, Mrs. Jacques Heath (Lily May Peel)  female  35.0      1   \n",
       "4                           Allen, Mr. William Henry    male  35.0      0   \n",
       "\n",
       "   Parch            Ticket     Fare Cabin Embarked  \n",
       "0      0         A/5 21171   7.2500   NaN        S  \n",
       "1      0          PC 17599  71.2833   C85        C  \n",
       "2      0  STON/O2. 3101282   7.9250   NaN        S  \n",
       "3      0            113803  53.1000  C123        S  \n",
       "4      0            373450   8.0500   NaN        S  "
      ]
     },
     "execution_count": 5,
     "metadata": {},
     "output_type": "execute_result"
    }
   ],
   "source": [
    "df.head()"
   ]
  },
  {
   "cell_type": "markdown",
   "id": "aggregate-reporter",
   "metadata": {
    "papermill": {
     "duration": 0.03485,
     "end_time": "2021-04-27T23:51:09.871121",
     "exception": false,
     "start_time": "2021-04-27T23:51:09.836271",
     "status": "completed"
    },
    "tags": []
   },
   "source": [
    "# Lets prepare the robots meal"
   ]
  },
  {
   "cell_type": "markdown",
   "id": "infectious-leonard",
   "metadata": {
    "papermill": {
     "duration": 0.035969,
     "end_time": "2021-04-27T23:51:09.942722",
     "exception": false,
     "start_time": "2021-04-27T23:51:09.906753",
     "status": "completed"
    },
    "tags": []
   },
   "source": [
    "**Check if any values are missing**"
   ]
  },
  {
   "cell_type": "code",
   "execution_count": 6,
   "id": "norwegian-tumor",
   "metadata": {
    "_cell_guid": "1b4f543b-3582-4640-8e5f-8ce13e9286f1",
    "_uuid": "c57d135a-6740-4b79-8cbd-b3024d93a0d7",
    "collapsed": false,
    "execution": {
     "iopub.execute_input": "2021-04-27T23:51:10.017598Z",
     "iopub.status.busy": "2021-04-27T23:51:10.016970Z",
     "iopub.status.idle": "2021-04-27T23:51:10.025920Z",
     "shell.execute_reply": "2021-04-27T23:51:10.026430Z"
    },
    "jupyter": {
     "outputs_hidden": false
    },
    "papermill": {
     "duration": 0.047863,
     "end_time": "2021-04-27T23:51:10.026614",
     "exception": false,
     "start_time": "2021-04-27T23:51:09.978751",
     "status": "completed"
    },
    "tags": []
   },
   "outputs": [
    {
     "data": {
      "text/plain": [
       "Cabin          687\n",
       "Age            177\n",
       "Embarked         2\n",
       "PassengerId      0\n",
       "Survived         0\n",
       "Pclass           0\n",
       "Name             0\n",
       "Sex              0\n",
       "SibSp            0\n",
       "Parch            0\n",
       "Ticket           0\n",
       "Fare             0\n",
       "dtype: int64"
      ]
     },
     "execution_count": 6,
     "metadata": {},
     "output_type": "execute_result"
    }
   ],
   "source": [
    "df.isnull().sum().sort_values(ascending=False)[:]"
   ]
  },
  {
   "cell_type": "code",
   "execution_count": 7,
   "id": "traditional-trading",
   "metadata": {
    "_cell_guid": "d30552e7-4196-4c9c-9a4c-3d48d2412658",
    "_uuid": "d25bdeb8-3138-4809-b376-617bc0521425",
    "collapsed": false,
    "execution": {
     "iopub.execute_input": "2021-04-27T23:51:10.102078Z",
     "iopub.status.busy": "2021-04-27T23:51:10.101434Z",
     "iopub.status.idle": "2021-04-27T23:51:10.109544Z",
     "shell.execute_reply": "2021-04-27T23:51:10.110040Z"
    },
    "jupyter": {
     "outputs_hidden": false
    },
    "papermill": {
     "duration": 0.047893,
     "end_time": "2021-04-27T23:51:10.110205",
     "exception": false,
     "start_time": "2021-04-27T23:51:10.062312",
     "status": "completed"
    },
    "tags": []
   },
   "outputs": [
    {
     "data": {
      "text/plain": [
       "Cabin          687\n",
       "Age            177\n",
       "Embarked         2\n",
       "PassengerId      0\n",
       "Survived         0\n",
       "Pclass           0\n",
       "Name             0\n",
       "Sex              0\n",
       "SibSp            0\n",
       "Parch            0\n",
       "Ticket           0\n",
       "Fare             0\n",
       "dtype: int64"
      ]
     },
     "execution_count": 7,
     "metadata": {},
     "output_type": "execute_result"
    }
   ],
   "source": [
    "df.isna().sum().sort_values(ascending=False)[:]"
   ]
  },
  {
   "cell_type": "code",
   "execution_count": 8,
   "id": "determined-catholic",
   "metadata": {
    "_cell_guid": "53202ee5-a4fb-412f-8789-6e8a51bb0c7f",
    "_uuid": "0c868ab8-5bcb-4248-8a6d-ce1f2ecc7d1f",
    "collapsed": false,
    "execution": {
     "iopub.execute_input": "2021-04-27T23:51:10.186163Z",
     "iopub.status.busy": "2021-04-27T23:51:10.185517Z",
     "iopub.status.idle": "2021-04-27T23:51:10.216073Z",
     "shell.execute_reply": "2021-04-27T23:51:10.216664Z"
    },
    "jupyter": {
     "outputs_hidden": false
    },
    "papermill": {
     "duration": 0.070349,
     "end_time": "2021-04-27T23:51:10.216860",
     "exception": false,
     "start_time": "2021-04-27T23:51:10.146511",
     "status": "completed"
    },
    "tags": []
   },
   "outputs": [
    {
     "name": "stdout",
     "output_type": "stream",
     "text": [
      "Proportion of missing values\n"
     ]
    },
    {
     "data": {
      "text/plain": [
       "PassengerId     0.000000\n",
       "Survived        0.000000\n",
       "Pclass          0.000000\n",
       "Name            0.000000\n",
       "Sex             0.000000\n",
       "Age            19.865320\n",
       "SibSp           0.000000\n",
       "Parch           0.000000\n",
       "Ticket          0.000000\n",
       "Fare            0.000000\n",
       "Cabin          77.104377\n",
       "Embarked        0.224467\n",
       "dtype: float64"
      ]
     },
     "execution_count": 8,
     "metadata": {},
     "output_type": "execute_result"
    }
   ],
   "source": [
    "print(\"Proportion of missing values\")\n",
    "missing_values_count = df.isna().sum()*100/df.shape[0]\n",
    "missing_values_count"
   ]
  },
  {
   "cell_type": "markdown",
   "id": "reverse-cambodia",
   "metadata": {
    "_cell_guid": "feb6d9a5-31f8-4a62-90f2-2a327b50840b",
    "_uuid": "b91e155b-43a1-4330-995d-10d51d178698",
    "papermill": {
     "duration": 0.0366,
     "end_time": "2021-04-27T23:51:10.294593",
     "exception": false,
     "start_time": "2021-04-27T23:51:10.257993",
     "status": "completed"
    },
    "tags": []
   },
   "source": [
    "**Some missing values, lets take care of this. Firt lets look at how many values each features have**"
   ]
  },
  {
   "cell_type": "code",
   "execution_count": 9,
   "id": "focused-basin",
   "metadata": {
    "_cell_guid": "9cd5a94a-4b8e-4d67-8156-565ca77086da",
    "_uuid": "bcf62f00-3987-4804-9777-c06d5b0d47f9",
    "collapsed": false,
    "execution": {
     "iopub.execute_input": "2021-04-27T23:51:10.377092Z",
     "iopub.status.busy": "2021-04-27T23:51:10.376418Z",
     "iopub.status.idle": "2021-04-27T23:51:10.379217Z",
     "shell.execute_reply": "2021-04-27T23:51:10.379649Z"
    },
    "jupyter": {
     "outputs_hidden": false
    },
    "papermill": {
     "duration": 0.048319,
     "end_time": "2021-04-27T23:51:10.379829",
     "exception": false,
     "start_time": "2021-04-27T23:51:10.331510",
     "status": "completed"
    },
    "tags": []
   },
   "outputs": [
    {
     "data": {
      "text/plain": [
       "PassengerId      int64\n",
       "Survived         int64\n",
       "Pclass           int64\n",
       "Name            object\n",
       "Sex             object\n",
       "Age            float64\n",
       "SibSp            int64\n",
       "Parch            int64\n",
       "Ticket          object\n",
       "Fare           float64\n",
       "Cabin           object\n",
       "Embarked        object\n",
       "dtype: object"
      ]
     },
     "execution_count": 9,
     "metadata": {},
     "output_type": "execute_result"
    }
   ],
   "source": [
    "df.dtypes"
   ]
  },
  {
   "cell_type": "code",
   "execution_count": 10,
   "id": "efficient-vertex",
   "metadata": {
    "_cell_guid": "aedaed8b-c642-4640-bff7-3b54cdd0b2a6",
    "_uuid": "71ab1fec-e713-4c60-894d-8c74c305e336",
    "collapsed": false,
    "execution": {
     "iopub.execute_input": "2021-04-27T23:51:10.463733Z",
     "iopub.status.busy": "2021-04-27T23:51:10.462553Z",
     "iopub.status.idle": "2021-04-27T23:51:10.483705Z",
     "shell.execute_reply": "2021-04-27T23:51:10.483006Z"
    },
    "jupyter": {
     "outputs_hidden": false
    },
    "papermill": {
     "duration": 0.06609,
     "end_time": "2021-04-27T23:51:10.483856",
     "exception": false,
     "start_time": "2021-04-27T23:51:10.417766",
     "status": "completed"
    },
    "tags": []
   },
   "outputs": [
    {
     "data": {
      "text/plain": [
       "PassengerId    891\n",
       "Survived         2\n",
       "Pclass           3\n",
       "Name           891\n",
       "Sex              2\n",
       "Age             88\n",
       "SibSp            7\n",
       "Parch            7\n",
       "Ticket         681\n",
       "Fare           248\n",
       "Cabin          147\n",
       "Embarked         3\n",
       "dtype: int64"
      ]
     },
     "execution_count": 10,
     "metadata": {},
     "output_type": "execute_result"
    }
   ],
   "source": [
    "df.nunique()"
   ]
  },
  {
   "cell_type": "markdown",
   "id": "august-journalist",
   "metadata": {
    "_cell_guid": "f7fea33a-5901-440b-b151-b4c75bf696e4",
    "_uuid": "8ceec484-6b80-46c1-9f65-806780595b5a",
    "papermill": {
     "duration": 0.044492,
     "end_time": "2021-04-27T23:51:10.577554",
     "exception": false,
     "start_time": "2021-04-27T23:51:10.533062",
     "status": "completed"
    },
    "tags": []
   },
   "source": [
    "**For the age, lets create a transformer to fill in the missing values with the mean**"
   ]
  },
  {
   "cell_type": "code",
   "execution_count": 11,
   "id": "increased-character",
   "metadata": {
    "_cell_guid": "4657ed80-5d6b-409d-985c-ae2bef54ce68",
    "_uuid": "1ae32d97-ca01-4497-820e-664b87962e03",
    "collapsed": false,
    "execution": {
     "iopub.execute_input": "2021-04-27T23:51:10.667548Z",
     "iopub.status.busy": "2021-04-27T23:51:10.666859Z",
     "iopub.status.idle": "2021-04-27T23:51:10.670211Z",
     "shell.execute_reply": "2021-04-27T23:51:10.669578Z"
    },
    "jupyter": {
     "outputs_hidden": false
    },
    "papermill": {
     "duration": 0.05471,
     "end_time": "2021-04-27T23:51:10.670363",
     "exception": false,
     "start_time": "2021-04-27T23:51:10.615653",
     "status": "completed"
    },
    "tags": []
   },
   "outputs": [],
   "source": [
    "# Treat age as a category or pure integer\n",
    "if age_bins:\n",
    "    cats = ['Child', 'Young Adult', 'Adult', 'Elderly']\n",
    "    bins = [0, 16, 25, 50, 100]\n",
    "    age_in_bins = pd.cut(df.Age, bins, labels=cats)\n",
    "    df['Age'] = age_in_bins\n",
    "    df['Age'] = df['Age'].astype('category')\n",
    "    age_transformer = Pipeline(steps=[\n",
    "        ('imputer', SimpleImputer(strategy='most_frequent')),\n",
    "        ('onehot', OneHotEncoder(handle_unknown='ignore'))])\n",
    "else:\n",
    "    age_transformer = Pipeline(steps=[\n",
    "        ('imputer', SimpleImputer(strategy='median')),\n",
    "        ('scaler', StandardScaler())])\n"
   ]
  },
  {
   "cell_type": "markdown",
   "id": "level-inspection",
   "metadata": {
    "_cell_guid": "4928eb75-857b-4328-b46e-3da20b42150b",
    "_uuid": "09e0e0ef-5474-4487-a8b5-08e0be393852",
    "papermill": {
     "duration": 0.03805,
     "end_time": "2021-04-27T23:51:10.747509",
     "exception": false,
     "start_time": "2021-04-27T23:51:10.709459",
     "status": "completed"
    },
    "tags": []
   },
   "source": [
    "**The missing Embarked is insignificant because they're very few of em and I dont think the feature is siginificant anyway. Just go with the most frequent value**"
   ]
  },
  {
   "cell_type": "code",
   "execution_count": 12,
   "id": "suspended-router",
   "metadata": {
    "_cell_guid": "aa36a951-cf8d-4f20-a08d-044deed78167",
    "_uuid": "418a9032-72e8-45d1-8ec9-dc8e8fdaf58d",
    "collapsed": false,
    "execution": {
     "iopub.execute_input": "2021-04-27T23:51:10.829670Z",
     "iopub.status.busy": "2021-04-27T23:51:10.829013Z",
     "iopub.status.idle": "2021-04-27T23:51:10.832435Z",
     "shell.execute_reply": "2021-04-27T23:51:10.831921Z"
    },
    "jupyter": {
     "outputs_hidden": false
    },
    "papermill": {
     "duration": 0.04669,
     "end_time": "2021-04-27T23:51:10.832573",
     "exception": false,
     "start_time": "2021-04-27T23:51:10.785883",
     "status": "completed"
    },
    "tags": []
   },
   "outputs": [],
   "source": [
    "emb_transformer = Pipeline(steps=[\n",
    "    ('imputer', SimpleImputer(strategy='most_frequent'))])"
   ]
  },
  {
   "cell_type": "markdown",
   "id": "frequent-reverse",
   "metadata": {
    "_cell_guid": "d2b48918-9001-4e05-8d80-ce8585ac92ff",
    "_uuid": "578e6895-194d-459e-a729-5e7eec266393",
    "papermill": {
     "duration": 0.03789,
     "end_time": "2021-04-27T23:51:10.908957",
     "exception": false,
     "start_time": "2021-04-27T23:51:10.871067",
     "status": "completed"
    },
    "tags": []
   },
   "source": [
    "**The Cabin feature is different, ~77% of the data is missing and at first thought I think they're could be a connection to survivability**"
   ]
  },
  {
   "cell_type": "code",
   "execution_count": 13,
   "id": "increased-kuwait",
   "metadata": {
    "_cell_guid": "3249c657-7930-4564-92b0-a366a08f22f9",
    "_uuid": "71ad2d25-f716-4262-b485-001a3468e7d9",
    "collapsed": false,
    "execution": {
     "iopub.execute_input": "2021-04-27T23:51:10.993154Z",
     "iopub.status.busy": "2021-04-27T23:51:10.992095Z",
     "iopub.status.idle": "2021-04-27T23:51:10.995586Z",
     "shell.execute_reply": "2021-04-27T23:51:10.995059Z"
    },
    "jupyter": {
     "outputs_hidden": false
    },
    "papermill": {
     "duration": 0.047975,
     "end_time": "2021-04-27T23:51:10.995747",
     "exception": false,
     "start_time": "2021-04-27T23:51:10.947772",
     "status": "completed"
    },
    "tags": []
   },
   "outputs": [],
   "source": [
    "df.drop(columns = ['Cabin'], inplace = True)"
   ]
  },
  {
   "cell_type": "markdown",
   "id": "satisfied-moses",
   "metadata": {
    "_cell_guid": "83bb442d-fb28-4525-801d-05e1bdd3d347",
    "_uuid": "5acc9ade-be11-42b5-aec1-67b70c9ca9f0",
    "papermill": {
     "duration": 0.038411,
     "end_time": "2021-04-27T23:51:11.072801",
     "exception": false,
     "start_time": "2021-04-27T23:51:11.034390",
     "status": "completed"
    },
    "tags": []
   },
   "source": [
    "**Lets set some transformers to preprocess some data using on hot and standardization**"
   ]
  },
  {
   "cell_type": "code",
   "execution_count": 14,
   "id": "eight-williams",
   "metadata": {
    "_cell_guid": "b20c27a0-1ffa-4d38-b7f5-402ffc237e17",
    "_uuid": "57e0cb38-6931-40d3-9271-b8af5b223122",
    "collapsed": false,
    "execution": {
     "iopub.execute_input": "2021-04-27T23:51:11.157029Z",
     "iopub.status.busy": "2021-04-27T23:51:11.156310Z",
     "iopub.status.idle": "2021-04-27T23:51:11.158457Z",
     "shell.execute_reply": "2021-04-27T23:51:11.159010Z"
    },
    "jupyter": {
     "outputs_hidden": false
    },
    "papermill": {
     "duration": 0.047812,
     "end_time": "2021-04-27T23:51:11.159195",
     "exception": false,
     "start_time": "2021-04-27T23:51:11.111383",
     "status": "completed"
    },
    "tags": []
   },
   "outputs": [],
   "source": [
    "onehot_feats = ['Pclass', 'Sex', 'SibSp', 'Parch', 'Embarked']\n",
    "stand_feats  = ['Fare']\n",
    "\n",
    "categorical_transformer = Pipeline(steps=[\n",
    "    ('onehot', OneHotEncoder(handle_unknown='ignore'))])\n",
    "\n",
    "numeric_transformer = Pipeline(steps=[\n",
    "    ('scaler', RobustScaler())])"
   ]
  },
  {
   "cell_type": "markdown",
   "id": "variable-hughes",
   "metadata": {
    "_cell_guid": "e845a0c1-8604-454e-9d81-29db62778b21",
    "_uuid": "78cebe5b-ae7f-485d-b9a7-e3a849023021",
    "papermill": {
     "duration": 0.038821,
     "end_time": "2021-04-27T23:51:11.237109",
     "exception": false,
     "start_time": "2021-04-27T23:51:11.198288",
     "status": "completed"
    },
    "tags": []
   },
   "source": [
    "**Last 2 features we need to process are the Name and Ticket columns**"
   ]
  },
  {
   "cell_type": "markdown",
   "id": "distinct-inspiration",
   "metadata": {
    "_cell_guid": "f4ae8fea-e67d-4165-90a7-793da06083c9",
    "_uuid": "7801cff4-4233-4965-a067-3356a2dec1b7",
    "papermill": {
     "duration": 0.038735,
     "end_time": "2021-04-27T23:51:11.315142",
     "exception": false,
     "start_time": "2021-04-27T23:51:11.276407",
     "status": "completed"
    },
    "tags": []
   },
   "source": [
    "**Lets take just the first name of all passengers and make a new column in the dataframe**"
   ]
  },
  {
   "cell_type": "code",
   "execution_count": 15,
   "id": "mathematical-kingdom",
   "metadata": {
    "_cell_guid": "876dc95a-d18b-41de-a7db-5d484567799c",
    "_uuid": "395b33f5-6d47-4738-892c-bfcd84ad979f",
    "collapsed": false,
    "execution": {
     "iopub.execute_input": "2021-04-27T23:51:11.397015Z",
     "iopub.status.busy": "2021-04-27T23:51:11.396322Z",
     "iopub.status.idle": "2021-04-27T23:51:11.404759Z",
     "shell.execute_reply": "2021-04-27T23:51:11.405268Z"
    },
    "jupyter": {
     "outputs_hidden": false
    },
    "papermill": {
     "duration": 0.051212,
     "end_time": "2021-04-27T23:51:11.405462",
     "exception": false,
     "start_time": "2021-04-27T23:51:11.354250",
     "status": "completed"
    },
    "tags": []
   },
   "outputs": [],
   "source": [
    "# Convert Name to a string\n",
    "df['Name'] = df['Name'].astype('str')\n",
    "# Split up name into 3 parts\n",
    "whole_name = df[\"Name\"].str.split(\" \", n = 3, expand = True)"
   ]
  },
  {
   "cell_type": "code",
   "execution_count": 16,
   "id": "applicable-driving",
   "metadata": {
    "_cell_guid": "d29a2ebe-ccc0-48cf-8e2a-6e109dca198f",
    "_uuid": "3c3456ba-4cf0-417e-aecd-1f6e3ce9f388",
    "collapsed": false,
    "execution": {
     "iopub.execute_input": "2021-04-27T23:51:11.487154Z",
     "iopub.status.busy": "2021-04-27T23:51:11.486400Z",
     "iopub.status.idle": "2021-04-27T23:51:11.521143Z",
     "shell.execute_reply": "2021-04-27T23:51:11.520475Z"
    },
    "jupyter": {
     "outputs_hidden": false
    },
    "papermill": {
     "duration": 0.076962,
     "end_time": "2021-04-27T23:51:11.521306",
     "exception": false,
     "start_time": "2021-04-27T23:51:11.444344",
     "status": "completed"
    },
    "tags": []
   },
   "outputs": [
    {
     "data": {
      "text/html": [
       "<div>\n",
       "<style scoped>\n",
       "    .dataframe tbody tr th:only-of-type {\n",
       "        vertical-align: middle;\n",
       "    }\n",
       "\n",
       "    .dataframe tbody tr th {\n",
       "        vertical-align: top;\n",
       "    }\n",
       "\n",
       "    .dataframe thead th {\n",
       "        text-align: right;\n",
       "    }\n",
       "</style>\n",
       "<table border=\"1\" class=\"dataframe\">\n",
       "  <thead>\n",
       "    <tr style=\"text-align: right;\">\n",
       "      <th></th>\n",
       "      <th>PassengerId</th>\n",
       "      <th>Survived</th>\n",
       "      <th>Pclass</th>\n",
       "      <th>Sex</th>\n",
       "      <th>Age</th>\n",
       "      <th>SibSp</th>\n",
       "      <th>Parch</th>\n",
       "      <th>Ticket</th>\n",
       "      <th>Fare</th>\n",
       "      <th>Embarked</th>\n",
       "      <th>First Name</th>\n",
       "      <th>Title</th>\n",
       "      <th>Last Name</th>\n",
       "    </tr>\n",
       "  </thead>\n",
       "  <tbody>\n",
       "    <tr>\n",
       "      <th>145</th>\n",
       "      <td>146</td>\n",
       "      <td>0</td>\n",
       "      <td>2</td>\n",
       "      <td>male</td>\n",
       "      <td>Young Adult</td>\n",
       "      <td>1</td>\n",
       "      <td>1</td>\n",
       "      <td>C.A. 33112</td>\n",
       "      <td>36.7500</td>\n",
       "      <td>S</td>\n",
       "      <td>Joseph</td>\n",
       "      <td>Mr.</td>\n",
       "      <td>Nicholls</td>\n",
       "    </tr>\n",
       "    <tr>\n",
       "      <th>824</th>\n",
       "      <td>825</td>\n",
       "      <td>0</td>\n",
       "      <td>3</td>\n",
       "      <td>male</td>\n",
       "      <td>Child</td>\n",
       "      <td>4</td>\n",
       "      <td>1</td>\n",
       "      <td>3101295</td>\n",
       "      <td>39.6875</td>\n",
       "      <td>S</td>\n",
       "      <td>Urho</td>\n",
       "      <td>Master.</td>\n",
       "      <td>Panula</td>\n",
       "    </tr>\n",
       "    <tr>\n",
       "      <th>531</th>\n",
       "      <td>532</td>\n",
       "      <td>0</td>\n",
       "      <td>3</td>\n",
       "      <td>male</td>\n",
       "      <td>NaN</td>\n",
       "      <td>0</td>\n",
       "      <td>0</td>\n",
       "      <td>2641</td>\n",
       "      <td>7.2292</td>\n",
       "      <td>C</td>\n",
       "      <td>Nakli</td>\n",
       "      <td>Mr.</td>\n",
       "      <td>Toufik</td>\n",
       "    </tr>\n",
       "    <tr>\n",
       "      <th>112</th>\n",
       "      <td>113</td>\n",
       "      <td>0</td>\n",
       "      <td>3</td>\n",
       "      <td>male</td>\n",
       "      <td>Young Adult</td>\n",
       "      <td>0</td>\n",
       "      <td>0</td>\n",
       "      <td>324669</td>\n",
       "      <td>8.0500</td>\n",
       "      <td>S</td>\n",
       "      <td>David</td>\n",
       "      <td>Mr.</td>\n",
       "      <td>Barton</td>\n",
       "    </tr>\n",
       "    <tr>\n",
       "      <th>865</th>\n",
       "      <td>866</td>\n",
       "      <td>1</td>\n",
       "      <td>2</td>\n",
       "      <td>female</td>\n",
       "      <td>Adult</td>\n",
       "      <td>0</td>\n",
       "      <td>0</td>\n",
       "      <td>236852</td>\n",
       "      <td>13.0000</td>\n",
       "      <td>S</td>\n",
       "      <td>(Karolina)</td>\n",
       "      <td>Mrs.</td>\n",
       "      <td>Bystrom</td>\n",
       "    </tr>\n",
       "    <tr>\n",
       "      <th>171</th>\n",
       "      <td>172</td>\n",
       "      <td>0</td>\n",
       "      <td>3</td>\n",
       "      <td>male</td>\n",
       "      <td>Child</td>\n",
       "      <td>4</td>\n",
       "      <td>1</td>\n",
       "      <td>382652</td>\n",
       "      <td>29.1250</td>\n",
       "      <td>Q</td>\n",
       "      <td>Arthur</td>\n",
       "      <td>Master.</td>\n",
       "      <td>Rice</td>\n",
       "    </tr>\n",
       "    <tr>\n",
       "      <th>106</th>\n",
       "      <td>107</td>\n",
       "      <td>1</td>\n",
       "      <td>3</td>\n",
       "      <td>female</td>\n",
       "      <td>Young Adult</td>\n",
       "      <td>0</td>\n",
       "      <td>0</td>\n",
       "      <td>343120</td>\n",
       "      <td>7.6500</td>\n",
       "      <td>S</td>\n",
       "      <td>Anna</td>\n",
       "      <td>Miss.</td>\n",
       "      <td>Salkjelsvik</td>\n",
       "    </tr>\n",
       "    <tr>\n",
       "      <th>359</th>\n",
       "      <td>360</td>\n",
       "      <td>1</td>\n",
       "      <td>3</td>\n",
       "      <td>female</td>\n",
       "      <td>NaN</td>\n",
       "      <td>0</td>\n",
       "      <td>0</td>\n",
       "      <td>330980</td>\n",
       "      <td>7.8792</td>\n",
       "      <td>Q</td>\n",
       "      <td>Helen</td>\n",
       "      <td>Miss.</td>\n",
       "      <td>Mockler</td>\n",
       "    </tr>\n",
       "    <tr>\n",
       "      <th>890</th>\n",
       "      <td>891</td>\n",
       "      <td>0</td>\n",
       "      <td>3</td>\n",
       "      <td>male</td>\n",
       "      <td>Adult</td>\n",
       "      <td>0</td>\n",
       "      <td>0</td>\n",
       "      <td>370376</td>\n",
       "      <td>7.7500</td>\n",
       "      <td>Q</td>\n",
       "      <td>Patrick</td>\n",
       "      <td>Mr.</td>\n",
       "      <td>Dooley</td>\n",
       "    </tr>\n",
       "    <tr>\n",
       "      <th>134</th>\n",
       "      <td>135</td>\n",
       "      <td>0</td>\n",
       "      <td>2</td>\n",
       "      <td>male</td>\n",
       "      <td>Young Adult</td>\n",
       "      <td>0</td>\n",
       "      <td>0</td>\n",
       "      <td>C.A. 29178</td>\n",
       "      <td>13.0000</td>\n",
       "      <td>S</td>\n",
       "      <td>Samuel</td>\n",
       "      <td>Mr.</td>\n",
       "      <td>Sobey</td>\n",
       "    </tr>\n",
       "    <tr>\n",
       "      <th>265</th>\n",
       "      <td>266</td>\n",
       "      <td>0</td>\n",
       "      <td>2</td>\n",
       "      <td>male</td>\n",
       "      <td>Adult</td>\n",
       "      <td>0</td>\n",
       "      <td>0</td>\n",
       "      <td>C.A. 17248</td>\n",
       "      <td>10.5000</td>\n",
       "      <td>S</td>\n",
       "      <td>David</td>\n",
       "      <td>Mr.</td>\n",
       "      <td>Reeves</td>\n",
       "    </tr>\n",
       "    <tr>\n",
       "      <th>607</th>\n",
       "      <td>608</td>\n",
       "      <td>1</td>\n",
       "      <td>1</td>\n",
       "      <td>male</td>\n",
       "      <td>Adult</td>\n",
       "      <td>0</td>\n",
       "      <td>0</td>\n",
       "      <td>113804</td>\n",
       "      <td>30.5000</td>\n",
       "      <td>S</td>\n",
       "      <td>Robert</td>\n",
       "      <td>Mr.</td>\n",
       "      <td>Daniel</td>\n",
       "    </tr>\n",
       "    <tr>\n",
       "      <th>783</th>\n",
       "      <td>784</td>\n",
       "      <td>0</td>\n",
       "      <td>3</td>\n",
       "      <td>male</td>\n",
       "      <td>NaN</td>\n",
       "      <td>1</td>\n",
       "      <td>2</td>\n",
       "      <td>W./C. 6607</td>\n",
       "      <td>23.4500</td>\n",
       "      <td>S</td>\n",
       "      <td>Andrew</td>\n",
       "      <td>Mr.</td>\n",
       "      <td>Johnston</td>\n",
       "    </tr>\n",
       "    <tr>\n",
       "      <th>633</th>\n",
       "      <td>634</td>\n",
       "      <td>0</td>\n",
       "      <td>1</td>\n",
       "      <td>male</td>\n",
       "      <td>NaN</td>\n",
       "      <td>0</td>\n",
       "      <td>0</td>\n",
       "      <td>112052</td>\n",
       "      <td>0.0000</td>\n",
       "      <td>S</td>\n",
       "      <td>William</td>\n",
       "      <td>Mr.</td>\n",
       "      <td>Parr</td>\n",
       "    </tr>\n",
       "    <tr>\n",
       "      <th>541</th>\n",
       "      <td>542</td>\n",
       "      <td>0</td>\n",
       "      <td>3</td>\n",
       "      <td>female</td>\n",
       "      <td>Child</td>\n",
       "      <td>4</td>\n",
       "      <td>2</td>\n",
       "      <td>347082</td>\n",
       "      <td>31.2750</td>\n",
       "      <td>S</td>\n",
       "      <td>Ingeborg</td>\n",
       "      <td>Miss.</td>\n",
       "      <td>Andersson</td>\n",
       "    </tr>\n",
       "    <tr>\n",
       "      <th>758</th>\n",
       "      <td>759</td>\n",
       "      <td>0</td>\n",
       "      <td>3</td>\n",
       "      <td>male</td>\n",
       "      <td>Adult</td>\n",
       "      <td>0</td>\n",
       "      <td>0</td>\n",
       "      <td>363294</td>\n",
       "      <td>8.0500</td>\n",
       "      <td>S</td>\n",
       "      <td>Thomas</td>\n",
       "      <td>Mr.</td>\n",
       "      <td>Theobald</td>\n",
       "    </tr>\n",
       "    <tr>\n",
       "      <th>782</th>\n",
       "      <td>783</td>\n",
       "      <td>0</td>\n",
       "      <td>1</td>\n",
       "      <td>male</td>\n",
       "      <td>Adult</td>\n",
       "      <td>0</td>\n",
       "      <td>0</td>\n",
       "      <td>113501</td>\n",
       "      <td>30.0000</td>\n",
       "      <td>S</td>\n",
       "      <td>Milton</td>\n",
       "      <td>Mr.</td>\n",
       "      <td>Long</td>\n",
       "    </tr>\n",
       "    <tr>\n",
       "      <th>420</th>\n",
       "      <td>421</td>\n",
       "      <td>0</td>\n",
       "      <td>3</td>\n",
       "      <td>male</td>\n",
       "      <td>NaN</td>\n",
       "      <td>0</td>\n",
       "      <td>0</td>\n",
       "      <td>349254</td>\n",
       "      <td>7.8958</td>\n",
       "      <td>C</td>\n",
       "      <td>Stanio</td>\n",
       "      <td>Mr.</td>\n",
       "      <td>Gheorgheff</td>\n",
       "    </tr>\n",
       "    <tr>\n",
       "      <th>240</th>\n",
       "      <td>241</td>\n",
       "      <td>0</td>\n",
       "      <td>3</td>\n",
       "      <td>female</td>\n",
       "      <td>NaN</td>\n",
       "      <td>1</td>\n",
       "      <td>0</td>\n",
       "      <td>2665</td>\n",
       "      <td>14.4542</td>\n",
       "      <td>C</td>\n",
       "      <td>Thamine</td>\n",
       "      <td>Miss.</td>\n",
       "      <td>Zabour</td>\n",
       "    </tr>\n",
       "    <tr>\n",
       "      <th>685</th>\n",
       "      <td>686</td>\n",
       "      <td>0</td>\n",
       "      <td>2</td>\n",
       "      <td>male</td>\n",
       "      <td>Young Adult</td>\n",
       "      <td>1</td>\n",
       "      <td>2</td>\n",
       "      <td>SC/Paris 2123</td>\n",
       "      <td>41.5792</td>\n",
       "      <td>C</td>\n",
       "      <td>Joseph</td>\n",
       "      <td>Mr.</td>\n",
       "      <td>Laroche</td>\n",
       "    </tr>\n",
       "  </tbody>\n",
       "</table>\n",
       "</div>"
      ],
      "text/plain": [
       "     PassengerId  Survived  Pclass     Sex          Age  SibSp  Parch  \\\n",
       "145          146         0       2    male  Young Adult      1      1   \n",
       "824          825         0       3    male        Child      4      1   \n",
       "531          532         0       3    male          NaN      0      0   \n",
       "112          113         0       3    male  Young Adult      0      0   \n",
       "865          866         1       2  female        Adult      0      0   \n",
       "171          172         0       3    male        Child      4      1   \n",
       "106          107         1       3  female  Young Adult      0      0   \n",
       "359          360         1       3  female          NaN      0      0   \n",
       "890          891         0       3    male        Adult      0      0   \n",
       "134          135         0       2    male  Young Adult      0      0   \n",
       "265          266         0       2    male        Adult      0      0   \n",
       "607          608         1       1    male        Adult      0      0   \n",
       "783          784         0       3    male          NaN      1      2   \n",
       "633          634         0       1    male          NaN      0      0   \n",
       "541          542         0       3  female        Child      4      2   \n",
       "758          759         0       3    male        Adult      0      0   \n",
       "782          783         0       1    male        Adult      0      0   \n",
       "420          421         0       3    male          NaN      0      0   \n",
       "240          241         0       3  female          NaN      1      0   \n",
       "685          686         0       2    male  Young Adult      1      2   \n",
       "\n",
       "            Ticket     Fare Embarked  First Name    Title    Last Name  \n",
       "145     C.A. 33112  36.7500        S      Joseph      Mr.     Nicholls  \n",
       "824        3101295  39.6875        S        Urho  Master.       Panula  \n",
       "531           2641   7.2292        C       Nakli      Mr.       Toufik  \n",
       "112         324669   8.0500        S       David      Mr.       Barton  \n",
       "865         236852  13.0000        S  (Karolina)     Mrs.      Bystrom  \n",
       "171         382652  29.1250        Q      Arthur  Master.         Rice  \n",
       "106         343120   7.6500        S        Anna    Miss.  Salkjelsvik  \n",
       "359         330980   7.8792        Q       Helen    Miss.      Mockler  \n",
       "890         370376   7.7500        Q     Patrick      Mr.       Dooley  \n",
       "134     C.A. 29178  13.0000        S      Samuel      Mr.        Sobey  \n",
       "265     C.A. 17248  10.5000        S       David      Mr.       Reeves  \n",
       "607         113804  30.5000        S      Robert      Mr.       Daniel  \n",
       "783     W./C. 6607  23.4500        S      Andrew      Mr.     Johnston  \n",
       "633         112052   0.0000        S     William      Mr.         Parr  \n",
       "541         347082  31.2750        S    Ingeborg    Miss.    Andersson  \n",
       "758         363294   8.0500        S      Thomas      Mr.     Theobald  \n",
       "782         113501  30.0000        S      Milton      Mr.         Long  \n",
       "420         349254   7.8958        C      Stanio      Mr.   Gheorgheff  \n",
       "240           2665  14.4542        C     Thamine    Miss.       Zabour  \n",
       "685  SC/Paris 2123  41.5792        C      Joseph      Mr.      Laroche  "
      ]
     },
     "execution_count": 16,
     "metadata": {},
     "output_type": "execute_result"
    }
   ],
   "source": [
    "# Add name parts to the data frame\n",
    "df[\"First Name\"] = whole_name[2]\n",
    "df[\"Title\"] = whole_name[1]\n",
    "df[\"Last Name\"] = whole_name[0]\n",
    "# Strip the comma from the last name\n",
    "df['Last Name'] = df['Last Name'].map(lambda x: x.rstrip(','))\n",
    "# Drop the original Name column\n",
    "df.drop(columns = ['Name'], inplace = True)\n",
    "df.sample(20)"
   ]
  },
  {
   "cell_type": "markdown",
   "id": "sporting-yellow",
   "metadata": {
    "_cell_guid": "3fdd1f7d-eea4-4507-8267-803467068985",
    "_uuid": "92bcd862-8dae-43c2-992d-24e0f31d2ee7",
    "papermill": {
     "duration": 0.039613,
     "end_time": "2021-04-27T23:51:11.600900",
     "exception": false,
     "start_time": "2021-04-27T23:51:11.561287",
     "status": "completed"
    },
    "tags": []
   },
   "source": [
    "**Lets take a look at how many possibilities these new features have**"
   ]
  },
  {
   "cell_type": "code",
   "execution_count": 17,
   "id": "opposed-impression",
   "metadata": {
    "_cell_guid": "5c6acd37-6ec5-460a-98fc-2d5107a1cbbf",
    "_uuid": "d97f5ffd-3fa0-4e0f-9c67-9fa94e656878",
    "collapsed": false,
    "execution": {
     "iopub.execute_input": "2021-04-27T23:51:11.687217Z",
     "iopub.status.busy": "2021-04-27T23:51:11.686257Z",
     "iopub.status.idle": "2021-04-27T23:51:11.699702Z",
     "shell.execute_reply": "2021-04-27T23:51:11.699129Z"
    },
    "jupyter": {
     "outputs_hidden": false
    },
    "papermill": {
     "duration": 0.059259,
     "end_time": "2021-04-27T23:51:11.699839",
     "exception": false,
     "start_time": "2021-04-27T23:51:11.640580",
     "status": "completed"
    },
    "tags": []
   },
   "outputs": [
    {
     "data": {
      "text/plain": [
       "PassengerId    891\n",
       "Survived         2\n",
       "Pclass           3\n",
       "Sex              2\n",
       "Age              4\n",
       "SibSp            7\n",
       "Parch            7\n",
       "Ticket         681\n",
       "Fare           248\n",
       "Embarked         3\n",
       "First Name     435\n",
       "Title           31\n",
       "Last Name      661\n",
       "dtype: int64"
      ]
     },
     "execution_count": 17,
     "metadata": {},
     "output_type": "execute_result"
    }
   ],
   "source": [
    "df.nunique()"
   ]
  },
  {
   "cell_type": "markdown",
   "id": "catholic-norway",
   "metadata": {
    "_cell_guid": "045abf91-1865-436b-9645-47fbb47ef071",
    "_uuid": "9f954540-8087-42e1-b5a5-90dd373b8128",
    "papermill": {
     "duration": 0.04017,
     "end_time": "2021-04-27T23:51:11.780404",
     "exception": false,
     "start_time": "2021-04-27T23:51:11.740234",
     "status": "completed"
    },
    "tags": []
   },
   "source": [
    "**Add the name parts to the list of one hot encoders**"
   ]
  },
  {
   "cell_type": "code",
   "execution_count": 18,
   "id": "isolated-opinion",
   "metadata": {
    "_cell_guid": "354887d4-34bf-40c5-aab6-e99d47c7a1df",
    "_uuid": "4e804e57-a3c6-4a17-b95a-504468fcc548",
    "collapsed": false,
    "execution": {
     "iopub.execute_input": "2021-04-27T23:51:11.869969Z",
     "iopub.status.busy": "2021-04-27T23:51:11.868904Z",
     "iopub.status.idle": "2021-04-27T23:51:11.872546Z",
     "shell.execute_reply": "2021-04-27T23:51:11.872018Z"
    },
    "jupyter": {
     "outputs_hidden": false
    },
    "papermill": {
     "duration": 0.050409,
     "end_time": "2021-04-27T23:51:11.872694",
     "exception": false,
     "start_time": "2021-04-27T23:51:11.822285",
     "status": "completed"
    },
    "tags": []
   },
   "outputs": [],
   "source": [
    "onehot_feats.extend(['First Name', 'Last Name', 'Title'])"
   ]
  },
  {
   "cell_type": "markdown",
   "id": "ancient-tradition",
   "metadata": {
    "_cell_guid": "86640e27-9827-451b-9d7a-b0c537367bf7",
    "_uuid": "c4843cc4-8045-4dff-959c-e91edd5dde9a",
    "papermill": {
     "duration": 0.04127,
     "end_time": "2021-04-27T23:51:11.955194",
     "exception": false,
     "start_time": "2021-04-27T23:51:11.913924",
     "status": "completed"
    },
    "tags": []
   },
   "source": [
    "**The Ticket feature is the last to be preprocessed**"
   ]
  },
  {
   "cell_type": "code",
   "execution_count": 19,
   "id": "coordinate-significance",
   "metadata": {
    "_cell_guid": "48b6660c-23ff-42fb-b7b8-bb33c17ca199",
    "_uuid": "248dc1d5-a3d6-42e2-80c0-b8bd7da36fea",
    "collapsed": false,
    "execution": {
     "iopub.execute_input": "2021-04-27T23:51:12.069898Z",
     "iopub.status.busy": "2021-04-27T23:51:12.068855Z",
     "iopub.status.idle": "2021-04-27T23:51:12.202719Z",
     "shell.execute_reply": "2021-04-27T23:51:12.201983Z"
    },
    "jupyter": {
     "outputs_hidden": false
    },
    "papermill": {
     "duration": 0.207134,
     "end_time": "2021-04-27T23:51:12.202869",
     "exception": false,
     "start_time": "2021-04-27T23:51:11.995735",
     "status": "completed"
    },
    "tags": []
   },
   "outputs": [
    {
     "data": {
      "text/html": [
       "<div>\n",
       "<style scoped>\n",
       "    .dataframe tbody tr th:only-of-type {\n",
       "        vertical-align: middle;\n",
       "    }\n",
       "\n",
       "    .dataframe tbody tr th {\n",
       "        vertical-align: top;\n",
       "    }\n",
       "\n",
       "    .dataframe thead th {\n",
       "        text-align: right;\n",
       "    }\n",
       "</style>\n",
       "<table border=\"1\" class=\"dataframe\">\n",
       "  <thead>\n",
       "    <tr style=\"text-align: right;\">\n",
       "      <th></th>\n",
       "      <th>Char</th>\n",
       "      <th>Number</th>\n",
       "    </tr>\n",
       "  </thead>\n",
       "  <tbody>\n",
       "    <tr>\n",
       "      <th>307</th>\n",
       "      <td>PC</td>\n",
       "      <td>17758</td>\n",
       "    </tr>\n",
       "    <tr>\n",
       "      <th>74</th>\n",
       "      <td>None</td>\n",
       "      <td>1601</td>\n",
       "    </tr>\n",
       "    <tr>\n",
       "      <th>270</th>\n",
       "      <td>None</td>\n",
       "      <td>113798</td>\n",
       "    </tr>\n",
       "    <tr>\n",
       "      <th>656</th>\n",
       "      <td>None</td>\n",
       "      <td>349223</td>\n",
       "    </tr>\n",
       "    <tr>\n",
       "      <th>577</th>\n",
       "      <td>None</td>\n",
       "      <td>13507</td>\n",
       "    </tr>\n",
       "    <tr>\n",
       "      <th>413</th>\n",
       "      <td>None</td>\n",
       "      <td>239853</td>\n",
       "    </tr>\n",
       "    <tr>\n",
       "      <th>775</th>\n",
       "      <td>None</td>\n",
       "      <td>347078</td>\n",
       "    </tr>\n",
       "  </tbody>\n",
       "</table>\n",
       "</div>"
      ],
      "text/plain": [
       "     Char  Number\n",
       "307    PC   17758\n",
       "74   None    1601\n",
       "270  None  113798\n",
       "656  None  349223\n",
       "577  None   13507\n",
       "413  None  239853\n",
       "775  None  347078"
      ]
     },
     "execution_count": 19,
     "metadata": {},
     "output_type": "execute_result"
    }
   ],
   "source": [
    "# Convert Name to a string\n",
    "df['Ticket'] = df['Ticket'].astype('str')\n",
    "# Split up ticket feature into 2 parts\n",
    "ticket = df[\"Ticket\"].str.split(\" \", n = 1, expand = True)\n",
    "# Rename the columns to the string part and number part\n",
    "ticket.columns = ['Char', 'Number']\n",
    "# Refine the uneven data a bit\n",
    "for ind in ticket.index:\n",
    "     if ticket['Number'][ind] is None:\n",
    "            ticket['Number'][ind] = ticket['Char'][ind]\n",
    "            ticket['Char'][ind] = None\n",
    "            \n",
    "     if ' ' in ticket['Number'][ind]:\n",
    "        ticket_ext = ticket[\"Number\"].str.split(\" \", n = 1, expand = True)\n",
    "        ticket_ext.columns = ['Char_ext', 'Number_ext']\n",
    "        ticket['Number'][ind] = ticket_ext['Number_ext'][ind]\n",
    "        \n",
    "ticket.sample(7)"
   ]
  },
  {
   "cell_type": "code",
   "execution_count": 20,
   "id": "sufficient-mozambique",
   "metadata": {
    "_cell_guid": "eb1cc562-aded-401a-b7d2-ae9979010852",
    "_uuid": "e69bbc74-f1da-49f0-b194-3b5a60d395c0",
    "collapsed": false,
    "execution": {
     "iopub.execute_input": "2021-04-27T23:51:12.293273Z",
     "iopub.status.busy": "2021-04-27T23:51:12.290177Z",
     "iopub.status.idle": "2021-04-27T23:51:12.298928Z",
     "shell.execute_reply": "2021-04-27T23:51:12.298376Z"
    },
    "jupyter": {
     "outputs_hidden": false
    },
    "papermill": {
     "duration": 0.054562,
     "end_time": "2021-04-27T23:51:12.299088",
     "exception": false,
     "start_time": "2021-04-27T23:51:12.244526",
     "status": "completed"
    },
    "tags": []
   },
   "outputs": [
    {
     "data": {
      "text/plain": [
       "Char       42\n",
       "Number    679\n",
       "dtype: int64"
      ]
     },
     "execution_count": 20,
     "metadata": {},
     "output_type": "execute_result"
    }
   ],
   "source": [
    "# Check the number of unique values for each feature\n",
    "ticket.nunique()"
   ]
  },
  {
   "cell_type": "code",
   "execution_count": 21,
   "id": "worse-jacksonville",
   "metadata": {
    "_cell_guid": "8a7086e2-f553-44fc-811c-940dc6601d6d",
    "_uuid": "7211d146-fabe-453e-8619-f268611f8b7a",
    "collapsed": false,
    "execution": {
     "iopub.execute_input": "2021-04-27T23:51:12.390190Z",
     "iopub.status.busy": "2021-04-27T23:51:12.389515Z",
     "iopub.status.idle": "2021-04-27T23:51:12.393738Z",
     "shell.execute_reply": "2021-04-27T23:51:12.394277Z"
    },
    "jupyter": {
     "outputs_hidden": false
    },
    "papermill": {
     "duration": 0.053668,
     "end_time": "2021-04-27T23:51:12.394463",
     "exception": false,
     "start_time": "2021-04-27T23:51:12.340795",
     "status": "completed"
    },
    "tags": []
   },
   "outputs": [
    {
     "data": {
      "text/plain": [
       "Char      665\n",
       "Number      0\n",
       "dtype: int64"
      ]
     },
     "execution_count": 21,
     "metadata": {},
     "output_type": "execute_result"
    }
   ],
   "source": [
    "# Check how many values are missing\n",
    "ticket.isna().sum().sort_values(ascending=False)[:]"
   ]
  },
  {
   "cell_type": "markdown",
   "id": "periodic-scout",
   "metadata": {
    "_cell_guid": "36d20d61-2b73-4021-8dc1-97f440dcfe69",
    "_uuid": "e9e84f86-8798-4826-ab8b-8aa0852dcbb4",
    "papermill": {
     "duration": 0.041702,
     "end_time": "2021-04-27T23:51:12.478742",
     "exception": false,
     "start_time": "2021-04-27T23:51:12.437040",
     "status": "completed"
    },
    "tags": []
   },
   "source": [
    "**Lets drop the character part of the ticket since they're isnt a lot of data and add the number portion to be standardized**"
   ]
  },
  {
   "cell_type": "code",
   "execution_count": 22,
   "id": "immune-artist",
   "metadata": {
    "_cell_guid": "55e7830c-380b-42eb-9b20-fae249bd502c",
    "_uuid": "ab9fc39a-64a1-4278-b27b-b36728ca052e",
    "collapsed": false,
    "execution": {
     "iopub.execute_input": "2021-04-27T23:51:12.568117Z",
     "iopub.status.busy": "2021-04-27T23:51:12.567472Z",
     "iopub.status.idle": "2021-04-27T23:51:12.603914Z",
     "shell.execute_reply": "2021-04-27T23:51:12.603229Z"
    },
    "jupyter": {
     "outputs_hidden": false
    },
    "papermill": {
     "duration": 0.082008,
     "end_time": "2021-04-27T23:51:12.604081",
     "exception": false,
     "start_time": "2021-04-27T23:51:12.522073",
     "status": "completed"
    },
    "tags": []
   },
   "outputs": [
    {
     "data": {
      "text/html": [
       "<div>\n",
       "<style scoped>\n",
       "    .dataframe tbody tr th:only-of-type {\n",
       "        vertical-align: middle;\n",
       "    }\n",
       "\n",
       "    .dataframe tbody tr th {\n",
       "        vertical-align: top;\n",
       "    }\n",
       "\n",
       "    .dataframe thead th {\n",
       "        text-align: right;\n",
       "    }\n",
       "</style>\n",
       "<table border=\"1\" class=\"dataframe\">\n",
       "  <thead>\n",
       "    <tr style=\"text-align: right;\">\n",
       "      <th></th>\n",
       "      <th>PassengerId</th>\n",
       "      <th>Survived</th>\n",
       "      <th>Pclass</th>\n",
       "      <th>Sex</th>\n",
       "      <th>Age</th>\n",
       "      <th>SibSp</th>\n",
       "      <th>Parch</th>\n",
       "      <th>Ticket</th>\n",
       "      <th>Fare</th>\n",
       "      <th>Embarked</th>\n",
       "      <th>First Name</th>\n",
       "      <th>Title</th>\n",
       "      <th>Last Name</th>\n",
       "    </tr>\n",
       "  </thead>\n",
       "  <tbody>\n",
       "    <tr>\n",
       "      <th>266</th>\n",
       "      <td>267</td>\n",
       "      <td>0</td>\n",
       "      <td>3</td>\n",
       "      <td>male</td>\n",
       "      <td>Child</td>\n",
       "      <td>4</td>\n",
       "      <td>1</td>\n",
       "      <td>3101295.0</td>\n",
       "      <td>39.6875</td>\n",
       "      <td>S</td>\n",
       "      <td>Ernesti</td>\n",
       "      <td>Mr.</td>\n",
       "      <td>Panula</td>\n",
       "    </tr>\n",
       "    <tr>\n",
       "      <th>663</th>\n",
       "      <td>664</td>\n",
       "      <td>0</td>\n",
       "      <td>3</td>\n",
       "      <td>male</td>\n",
       "      <td>Adult</td>\n",
       "      <td>0</td>\n",
       "      <td>0</td>\n",
       "      <td>349210.0</td>\n",
       "      <td>7.4958</td>\n",
       "      <td>S</td>\n",
       "      <td>Peju</td>\n",
       "      <td>Mr.</td>\n",
       "      <td>Coleff</td>\n",
       "    </tr>\n",
       "    <tr>\n",
       "      <th>451</th>\n",
       "      <td>452</td>\n",
       "      <td>0</td>\n",
       "      <td>3</td>\n",
       "      <td>male</td>\n",
       "      <td>NaN</td>\n",
       "      <td>1</td>\n",
       "      <td>0</td>\n",
       "      <td>65303.0</td>\n",
       "      <td>19.9667</td>\n",
       "      <td>S</td>\n",
       "      <td>Ingvald</td>\n",
       "      <td>Mr.</td>\n",
       "      <td>Hagland</td>\n",
       "    </tr>\n",
       "    <tr>\n",
       "      <th>291</th>\n",
       "      <td>292</td>\n",
       "      <td>1</td>\n",
       "      <td>1</td>\n",
       "      <td>female</td>\n",
       "      <td>Young Adult</td>\n",
       "      <td>1</td>\n",
       "      <td>0</td>\n",
       "      <td>11967.0</td>\n",
       "      <td>91.0792</td>\n",
       "      <td>C</td>\n",
       "      <td>Dickinson</td>\n",
       "      <td>Mrs.</td>\n",
       "      <td>Bishop</td>\n",
       "    </tr>\n",
       "    <tr>\n",
       "      <th>815</th>\n",
       "      <td>816</td>\n",
       "      <td>0</td>\n",
       "      <td>1</td>\n",
       "      <td>male</td>\n",
       "      <td>NaN</td>\n",
       "      <td>0</td>\n",
       "      <td>0</td>\n",
       "      <td>112058.0</td>\n",
       "      <td>0.0000</td>\n",
       "      <td>S</td>\n",
       "      <td>Richard</td>\n",
       "      <td>Mr.</td>\n",
       "      <td>Fry</td>\n",
       "    </tr>\n",
       "    <tr>\n",
       "      <th>710</th>\n",
       "      <td>711</td>\n",
       "      <td>1</td>\n",
       "      <td>1</td>\n",
       "      <td>female</td>\n",
       "      <td>Young Adult</td>\n",
       "      <td>0</td>\n",
       "      <td>0</td>\n",
       "      <td>17482.0</td>\n",
       "      <td>49.5042</td>\n",
       "      <td>C</td>\n",
       "      <td>Berthe</td>\n",
       "      <td>Mlle.</td>\n",
       "      <td>Mayne</td>\n",
       "    </tr>\n",
       "    <tr>\n",
       "      <th>343</th>\n",
       "      <td>344</td>\n",
       "      <td>0</td>\n",
       "      <td>2</td>\n",
       "      <td>male</td>\n",
       "      <td>Young Adult</td>\n",
       "      <td>0</td>\n",
       "      <td>0</td>\n",
       "      <td>244361.0</td>\n",
       "      <td>13.0000</td>\n",
       "      <td>S</td>\n",
       "      <td>Charles</td>\n",
       "      <td>Mr.</td>\n",
       "      <td>Sedgwick</td>\n",
       "    </tr>\n",
       "  </tbody>\n",
       "</table>\n",
       "</div>"
      ],
      "text/plain": [
       "     PassengerId  Survived  Pclass     Sex          Age  SibSp  Parch  \\\n",
       "266          267         0       3    male        Child      4      1   \n",
       "663          664         0       3    male        Adult      0      0   \n",
       "451          452         0       3    male          NaN      1      0   \n",
       "291          292         1       1  female  Young Adult      1      0   \n",
       "815          816         0       1    male          NaN      0      0   \n",
       "710          711         1       1  female  Young Adult      0      0   \n",
       "343          344         0       2    male  Young Adult      0      0   \n",
       "\n",
       "        Ticket     Fare Embarked First Name  Title Last Name  \n",
       "266  3101295.0  39.6875        S    Ernesti    Mr.    Panula  \n",
       "663   349210.0   7.4958        S       Peju    Mr.    Coleff  \n",
       "451    65303.0  19.9667        S    Ingvald    Mr.   Hagland  \n",
       "291    11967.0  91.0792        C  Dickinson   Mrs.    Bishop  \n",
       "815   112058.0   0.0000        S    Richard    Mr.       Fry  \n",
       "710    17482.0  49.5042        C     Berthe  Mlle.     Mayne  \n",
       "343   244361.0  13.0000        S    Charles    Mr.  Sedgwick  "
      ]
     },
     "execution_count": 22,
     "metadata": {},
     "output_type": "execute_result"
    }
   ],
   "source": [
    "# Drop 'Char' column\n",
    "ticket.drop(columns = ['Char'], inplace = True)\n",
    "# We have a value \"Line\" we need to get rid of from the ticket number\n",
    "for ind in ticket.index:\n",
    "     if ticket['Number'][ind] == 'LINE':\n",
    "            ticket['Number'][ind] = None\n",
    "            \n",
    "# Create a transformer to fill in the mean for the ticket values = None\n",
    "ticket_transformer = Pipeline(steps=[\n",
    "    ('imputer', SimpleImputer(strategy='mean')),\n",
    "    ('scaler', StandardScaler())])\n",
    "\n",
    "# Replace ticket in main data frame with the one just created\n",
    "df[\"Ticket\"] = ticket\n",
    "\n",
    "# Convert \"Ticket\" to numeric values to be processed\n",
    "df[\"Ticket\"] = pd.to_numeric(df[\"Ticket\"])\n",
    "\n",
    "# Add the \"Ticket\" to the list to be standardize\n",
    "df.sample(7)"
   ]
  },
  {
   "cell_type": "code",
   "execution_count": 23,
   "id": "violent-august",
   "metadata": {
    "_cell_guid": "0665673c-ca7d-4c57-b1b8-3319857a31bb",
    "_uuid": "3da16816-6810-4846-946c-13a40b224aeb",
    "collapsed": false,
    "execution": {
     "iopub.execute_input": "2021-04-27T23:51:12.695540Z",
     "iopub.status.busy": "2021-04-27T23:51:12.694772Z",
     "iopub.status.idle": "2021-04-27T23:51:12.702136Z",
     "shell.execute_reply": "2021-04-27T23:51:12.702711Z"
    },
    "jupyter": {
     "outputs_hidden": false
    },
    "papermill": {
     "duration": 0.054427,
     "end_time": "2021-04-27T23:51:12.702903",
     "exception": false,
     "start_time": "2021-04-27T23:51:12.648476",
     "status": "completed"
    },
    "tags": []
   },
   "outputs": [
    {
     "data": {
      "text/plain": [
       "PassengerId       int64\n",
       "Survived          int64\n",
       "Pclass            int64\n",
       "Sex              object\n",
       "Age            category\n",
       "SibSp             int64\n",
       "Parch             int64\n",
       "Ticket          float64\n",
       "Fare            float64\n",
       "Embarked         object\n",
       "First Name       object\n",
       "Title            object\n",
       "Last Name        object\n",
       "dtype: object"
      ]
     },
     "execution_count": 23,
     "metadata": {},
     "output_type": "execute_result"
    }
   ],
   "source": [
    "df.dtypes"
   ]
  },
  {
   "cell_type": "code",
   "execution_count": 24,
   "id": "configured-leisure",
   "metadata": {
    "execution": {
     "iopub.execute_input": "2021-04-27T23:51:12.794980Z",
     "iopub.status.busy": "2021-04-27T23:51:12.794321Z",
     "iopub.status.idle": "2021-04-27T23:51:12.808738Z",
     "shell.execute_reply": "2021-04-27T23:51:12.808032Z"
    },
    "papermill": {
     "duration": 0.061833,
     "end_time": "2021-04-27T23:51:12.808891",
     "exception": false,
     "start_time": "2021-04-27T23:51:12.747058",
     "status": "completed"
    },
    "tags": []
   },
   "outputs": [],
   "source": [
    "# Convert the object features to categories so it plays nice with the onehotencoder\n",
    "for i in ['Sex', 'Embarked', 'First Name', 'Title', 'Last Name']:\n",
    "    df[i] = df[i].astype('category')"
   ]
  },
  {
   "cell_type": "code",
   "execution_count": 25,
   "id": "destroyed-motorcycle",
   "metadata": {
    "execution": {
     "iopub.execute_input": "2021-04-27T23:51:12.905242Z",
     "iopub.status.busy": "2021-04-27T23:51:12.904173Z",
     "iopub.status.idle": "2021-04-27T23:51:12.907656Z",
     "shell.execute_reply": "2021-04-27T23:51:12.908191Z"
    },
    "papermill": {
     "duration": 0.055173,
     "end_time": "2021-04-27T23:51:12.908380",
     "exception": false,
     "start_time": "2021-04-27T23:51:12.853207",
     "status": "completed"
    },
    "tags": []
   },
   "outputs": [
    {
     "data": {
      "text/plain": [
       "PassengerId       int64\n",
       "Survived          int64\n",
       "Pclass            int64\n",
       "Sex            category\n",
       "Age            category\n",
       "SibSp             int64\n",
       "Parch             int64\n",
       "Ticket          float64\n",
       "Fare            float64\n",
       "Embarked       category\n",
       "First Name     category\n",
       "Title          category\n",
       "Last Name      category\n",
       "dtype: object"
      ]
     },
     "execution_count": 25,
     "metadata": {},
     "output_type": "execute_result"
    }
   ],
   "source": [
    "df.dtypes"
   ]
  },
  {
   "cell_type": "markdown",
   "id": "united-bankruptcy",
   "metadata": {
    "papermill": {
     "duration": 0.0452,
     "end_time": "2021-04-27T23:51:12.997652",
     "exception": false,
     "start_time": "2021-04-27T23:51:12.952452",
     "status": "completed"
    },
    "tags": []
   },
   "source": [
    "# Feed the Robot!"
   ]
  },
  {
   "cell_type": "markdown",
   "id": "suburban-instrumentation",
   "metadata": {
    "papermill": {
     "duration": 0.043815,
     "end_time": "2021-04-27T23:51:13.086725",
     "exception": false,
     "start_time": "2021-04-27T23:51:13.042910",
     "status": "completed"
    },
    "tags": []
   },
   "source": [
    "**Breakdown the data frame to training and test set**"
   ]
  },
  {
   "cell_type": "code",
   "execution_count": 26,
   "id": "based-carbon",
   "metadata": {
    "_cell_guid": "bdcb2db8-f843-4652-9815-4017d07b95ea",
    "_uuid": "e62c9d83-f4b4-4067-9c6f-97d2fd5117d2",
    "collapsed": false,
    "execution": {
     "iopub.execute_input": "2021-04-27T23:51:13.182865Z",
     "iopub.status.busy": "2021-04-27T23:51:13.182135Z",
     "iopub.status.idle": "2021-04-27T23:51:13.188461Z",
     "shell.execute_reply": "2021-04-27T23:51:13.189028Z"
    },
    "jupyter": {
     "outputs_hidden": false
    },
    "papermill": {
     "duration": 0.057908,
     "end_time": "2021-04-27T23:51:13.189222",
     "exception": false,
     "start_time": "2021-04-27T23:51:13.131314",
     "status": "completed"
    },
    "tags": []
   },
   "outputs": [],
   "source": [
    "# Breakdown the data frame into attributes and label (Survived)\n",
    "X = df.drop('Survived', axis=1)\n",
    "y = df['Survived']\n",
    "X_train, X_test, y_train, y_test = train_test_split(X, y, test_size=0.25, random_state=42)"
   ]
  },
  {
   "cell_type": "markdown",
   "id": "inclusive-toronto",
   "metadata": {
    "papermill": {
     "duration": 0.04344,
     "end_time": "2021-04-27T23:51:13.277087",
     "exception": false,
     "start_time": "2021-04-27T23:51:13.233647",
     "status": "completed"
    },
    "tags": []
   },
   "source": [
    "**Preprocess the data**"
   ]
  },
  {
   "cell_type": "code",
   "execution_count": 27,
   "id": "worse-promise",
   "metadata": {
    "_cell_guid": "cbb3f7e5-7ec8-45c3-98c1-1a9b42efeff9",
    "_uuid": "5e3af7d3-ab5b-4f1e-880a-dd87eacc3934",
    "collapsed": false,
    "execution": {
     "iopub.execute_input": "2021-04-27T23:51:13.368184Z",
     "iopub.status.busy": "2021-04-27T23:51:13.367474Z",
     "iopub.status.idle": "2021-04-27T23:51:13.390146Z",
     "shell.execute_reply": "2021-04-27T23:51:13.389562Z"
    },
    "jupyter": {
     "outputs_hidden": false
    },
    "papermill": {
     "duration": 0.069413,
     "end_time": "2021-04-27T23:51:13.390292",
     "exception": false,
     "start_time": "2021-04-27T23:51:13.320879",
     "status": "completed"
    },
    "tags": []
   },
   "outputs": [],
   "source": [
    "# Data cleaning and transforming\n",
    "df['Embarked'].fillna(df.mode().iloc[0])\n",
    "\n",
    "preprocessor = ColumnTransformer(\n",
    "    transformers=[\n",
    "        ('age', age_transformer, [\"Age\"]),\n",
    "        ('tic', ticket_transformer, [\"Ticket\"]),\n",
    "        ('cat', categorical_transformer, onehot_feats),  \n",
    "        ('num', numeric_transformer, stand_feats)])"
   ]
  },
  {
   "cell_type": "markdown",
   "id": "reduced-average",
   "metadata": {
    "papermill": {
     "duration": 0.044019,
     "end_time": "2021-04-27T23:51:13.478666",
     "exception": false,
     "start_time": "2021-04-27T23:51:13.434647",
     "status": "completed"
    },
    "tags": []
   },
   "source": [
    "**Set up the classifiers we will run**"
   ]
  },
  {
   "cell_type": "code",
   "execution_count": 28,
   "id": "broad-fifty",
   "metadata": {
    "_cell_guid": "3cc4571b-e033-45ea-858c-fd20cd87e472",
    "_uuid": "fad93967-7a5a-47c8-9b13-8135c2cc5be3",
    "collapsed": false,
    "execution": {
     "iopub.execute_input": "2021-04-27T23:51:13.573753Z",
     "iopub.status.busy": "2021-04-27T23:51:13.572750Z",
     "iopub.status.idle": "2021-04-27T23:51:13.576557Z",
     "shell.execute_reply": "2021-04-27T23:51:13.575902Z"
    },
    "jupyter": {
     "outputs_hidden": false
    },
    "papermill": {
     "duration": 0.053609,
     "end_time": "2021-04-27T23:51:13.576699",
     "exception": false,
     "start_time": "2021-04-27T23:51:13.523090",
     "status": "completed"
    },
    "tags": []
   },
   "outputs": [],
   "source": [
    "# Run multiple models and compare\n",
    "classifiers = [\n",
    "    SVC(kernel=\"rbf\", C=0.025, probability=True),\n",
    "    DecisionTreeClassifier(),\n",
    "    RandomForestClassifier(),\n",
    "    AdaBoostClassifier(),\n",
    "    GradientBoostingClassifier(),\n",
    "    KNeighborsClassifier(),\n",
    "    LogisticRegression(),\n",
    "    ]"
   ]
  },
  {
   "cell_type": "markdown",
   "id": "alike-desperate",
   "metadata": {
    "papermill": {
     "duration": 0.043841,
     "end_time": "2021-04-27T23:51:13.664998",
     "exception": false,
     "start_time": "2021-04-27T23:51:13.621157",
     "status": "completed"
    },
    "tags": []
   },
   "source": [
    "**Let it rip**"
   ]
  },
  {
   "cell_type": "code",
   "execution_count": 29,
   "id": "improved-murray",
   "metadata": {
    "_cell_guid": "d681a84d-88c0-4dd2-aa5c-7ddfc49beaa3",
    "_uuid": "06ab9b21-ace5-4f68-97fd-d7b23b3b62c3",
    "collapsed": false,
    "execution": {
     "iopub.execute_input": "2021-04-27T23:51:13.781110Z",
     "iopub.status.busy": "2021-04-27T23:51:13.780007Z",
     "iopub.status.idle": "2021-04-27T23:51:15.138418Z",
     "shell.execute_reply": "2021-04-27T23:51:15.137546Z"
    },
    "jupyter": {
     "outputs_hidden": false
    },
    "papermill": {
     "duration": 1.429427,
     "end_time": "2021-04-27T23:51:15.138596",
     "exception": false,
     "start_time": "2021-04-27T23:51:13.709169",
     "status": "completed"
    },
    "tags": []
   },
   "outputs": [
    {
     "name": "stdout",
     "output_type": "stream",
     "text": [
      "** Following results reflect classifier models **\n",
      "-------------------------------------------\n",
      "SVC(C=0.025, probability=True)\n",
      "Accuracy:  60.0896860986547\n",
      "Predictions correct =  134\n",
      "Predictions wrong   =  89\n",
      "Confussion matrix = \n",
      " [[134   0]\n",
      " [ 89   0]]\n",
      "-------------------------------------------\n",
      "DecisionTreeClassifier()\n",
      "Accuracy:  84.75336322869956\n",
      "Predictions correct =  189\n",
      "Predictions wrong   =  34\n",
      "Confussion matrix = \n",
      " [[122  12]\n",
      " [ 22  67]]\n",
      "-------------------------------------------\n",
      "RandomForestClassifier()\n",
      "Accuracy:  81.61434977578476\n",
      "Predictions correct =  182\n",
      "Predictions wrong   =  41\n",
      "Confussion matrix = \n",
      " [[120  14]\n",
      " [ 27  62]]\n",
      "-------------------------------------------\n",
      "AdaBoostClassifier()\n",
      "Accuracy:  79.82062780269058\n",
      "Predictions correct =  178\n",
      "Predictions wrong   =  45\n",
      "Confussion matrix = \n",
      " [[111  23]\n",
      " [ 22  67]]\n",
      "-------------------------------------------\n",
      "GradientBoostingClassifier()\n",
      "Accuracy:  83.40807174887892\n",
      "Predictions correct =  186\n",
      "Predictions wrong   =  37\n",
      "Confussion matrix = \n",
      " [[121  13]\n",
      " [ 24  65]]\n",
      "-------------------------------------------\n",
      "KNeighborsClassifier()\n",
      "Accuracy:  80.71748878923766\n",
      "Predictions correct =  180\n",
      "Predictions wrong   =  43\n",
      "Confussion matrix = \n",
      " [[111  23]\n",
      " [ 20  69]]\n",
      "-------------------------------------------\n",
      "LogisticRegression()\n",
      "Accuracy:  81.16591928251121\n",
      "Predictions correct =  181\n",
      "Predictions wrong   =  42\n",
      "Confussion matrix = \n",
      " [[114  20]\n",
      " [ 22  67]]\n"
     ]
    }
   ],
   "source": [
    "print(\"** Following results reflect classifier models **\")\n",
    "classif_list = []\n",
    "acc_list = []\n",
    "incorrect_mtrx = []\n",
    "for classifier in classifiers:\n",
    "    pipe = Pipeline(steps=[('preprocessor', preprocessor),\n",
    "                      ('classifier', classifier)])\n",
    "    pipe.fit(X_train, y_train)   \n",
    "    \n",
    "    # Predict the test labels\n",
    "    preds = pipe.predict(X_test)\n",
    "    \n",
    "    # Keep wrong prediction data\n",
    "    truth_list = y_test.values.tolist()\n",
    "    incorrect = []\n",
    "    for j in range(0,len(preds)):\n",
    "        if preds[j] != truth_list[j]:\n",
    "            incorrect.append(j)        # I should probably do this by passengerid, not by index\n",
    "    \n",
    "    incorrect_mtrx.append(incorrect)\n",
    "    # Calculate the accuracy and cofussion matrix\n",
    "    acc_score = accuracy_score(y_test, preds)\n",
    "    conf_matrix = confusion_matrix(y_test, preds)\n",
    "    \n",
    "    # Calculate how many preidctions were right and wrong\n",
    "    n_labels_right = accuracy_score(y_test, preds, normalize=False)\n",
    "    n_labels_total = y_test.size\n",
    "      \n",
    "    # Print details of classifiers, accuracy and cofussion matrix\n",
    "    print(\"-------------------------------------------\")\n",
    "    print(classifier)\n",
    "    print(\"Accuracy: \", acc_score*100)\n",
    "    print(\"Predictions correct = \", n_labels_right)\n",
    "    print(\"Predictions wrong   = \", n_labels_total - n_labels_right)\n",
    "    print(\"Confussion matrix = \\n\", conf_matrix)\n",
    "    \n",
    "    # Put classifier and accuracy in list to extract the best at the end\n",
    "    classif_list.append(classifier)\n",
    "    acc_list.append(acc_score*100)"
   ]
  },
  {
   "cell_type": "markdown",
   "id": "monetary-premiere",
   "metadata": {
    "papermill": {
     "duration": 0.046122,
     "end_time": "2021-04-27T23:51:15.232732",
     "exception": false,
     "start_time": "2021-04-27T23:51:15.186610",
     "status": "completed"
    },
    "tags": []
   },
   "source": [
    "# Cool! Got some good predictor models"
   ]
  },
  {
   "cell_type": "markdown",
   "id": "thermal-staff",
   "metadata": {
    "papermill": {
     "duration": 0.046618,
     "end_time": "2021-04-27T23:51:15.326362",
     "exception": false,
     "start_time": "2021-04-27T23:51:15.279744",
     "status": "completed"
    },
    "tags": []
   },
   "source": [
    "**(In progress) Some extra credit here. Feel free to move along**"
   ]
  },
  {
   "cell_type": "markdown",
   "id": "specified-essence",
   "metadata": {
    "papermill": {
     "duration": 0.046672,
     "end_time": "2021-04-27T23:51:15.419151",
     "exception": false,
     "start_time": "2021-04-27T23:51:15.372479",
     "status": "completed"
    },
    "tags": []
   },
   "source": [
    "**Lets take a look at the samples we predicted wrong**"
   ]
  },
  {
   "cell_type": "code",
   "execution_count": 30,
   "id": "special-stevens",
   "metadata": {
    "execution": {
     "iopub.execute_input": "2021-04-27T23:51:15.541953Z",
     "iopub.status.busy": "2021-04-27T23:51:15.540712Z",
     "iopub.status.idle": "2021-04-27T23:51:16.855429Z",
     "shell.execute_reply": "2021-04-27T23:51:16.854633Z"
    },
    "papermill": {
     "duration": 1.390211,
     "end_time": "2021-04-27T23:51:16.855584",
     "exception": false,
     "start_time": "2021-04-27T23:51:15.465373",
     "status": "completed"
    },
    "tags": []
   },
   "outputs": [
    {
     "data": {
      "image/png": "[encoded data removed]",
      "text/plain": [
       "<Figure size 432x288 with 1 Axes>"
      ]
     },
     "metadata": {},
     "output_type": "display_data"
    },
    {
     "data": {
      "image/png": "[encoded data removed]",
      "text/plain": [
       "<Figure size 432x288 with 1 Axes>"
      ]
     },
     "metadata": {},
     "output_type": "display_data"
    },
    {
     "data": {
      "image/png": "[encoded data removed]",
      "text/plain": [
       "<Figure size 432x288 with 1 Axes>"
      ]
     },
     "metadata": {},
     "output_type": "display_data"
    },
    {
     "data": {
      "image/png": "[encoded data removed]",
      "text/plain": [
       "<Figure size 432x288 with 1 Axes>"
      ]
     },
     "metadata": {},
     "output_type": "display_data"
    },
    {
     "data": {
      "image/png": "[encoded data removed]",
      "text/plain": [
       "<Figure size 432x288 with 1 Axes>"
      ]
     },
     "metadata": {},
     "output_type": "display_data"
    },
    {
     "data": {
      "image/png": "[encoded data removed]",
      "text/plain": [
       "<Figure size 432x288 with 1 Axes>"
      ]
     },
     "metadata": {},
     "output_type": "display_data"
    }
   ],
   "source": [
    "# Create a sub dataframe with just the sample we incorrectly labeled\n",
    "wrong_indx_list = incorrect_mtrx[1]\n",
    "wrong_df = df.iloc[wrong_indx_list]\n",
    "cat_feats = [\"Pclass\", \"Sex\", \"Age\", \"SibSp\", \"Embarked\", \"Title\"]\n",
    "for feat in cat_feats:\n",
    "    sns.set_theme(style=\"darkgrid\")\n",
    "    ax = sns.countplot(data=wrong_df, x=feat)\n",
    "    plt.show()"
   ]
  }
 ],
 "metadata": {
  "kernelspec": {
   "display_name": "Python 3",
   "language": "python",
   "name": "python3"
  },
  "language_info": {
   "codemirror_mode": {
    "name": "ipython",
    "version": 3
   },
   "file_extension": ".py",
   "mimetype": "text/x-python",
   "name": "python",
   "nbconvert_exporter": "python",
   "pygments_lexer": "ipython3",
   "version": "3.7.9"
  },
  "papermill": {
   "default_parameters": {},
   "duration": 16.654745,
   "end_time": "2021-04-27T23:51:17.619260",
   "environment_variables": {},
   "exception": null,
   "input_path": "__notebook__.ipynb",
   "output_path": "__notebook__.ipynb",
   "parameters": {},
   "start_time": "2021-04-27T23:51:00.964515",
   "version": "2.3.2"
  }
 },
 "nbformat": 4,
 "nbformat_minor": 5
}
